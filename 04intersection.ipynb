{
 "cells": [
  {
   "cell_type": "markdown",
   "id": "3e69c1fc",
   "metadata": {},
   "source": [
    "# Intersection"
   ]
  },
  {
   "cell_type": "markdown",
   "id": "5b51337a",
   "metadata": {},
   "source": [
    "#### Welcome to this final exercise in Collinearity!"
   ]
  },
  {
   "cell_type": "markdown",
   "id": "90ad2c61",
   "metadata": {},
   "source": [
    "</style> \n",
    "\n",
    "<div class=\"alert alert-info\"> <strong>NAME: </strong\n",
    "    \n",
    "[ write your name.surname between the brackets (like that name.surname) ]\n",
    " \n",
    "</div>"
   ]
  },
  {
   "cell_type": "markdown",
   "id": "f4da2e42",
   "metadata": {},
   "source": [
    "We now have a pretty good idea of what the **Collinearity equations** can help us achieve. \n",
    "\n",
    "We can firstly transform to and from a 2D plane and a 3D object. Secondly we can solve for the parameters of a single camera (location and orientation: $X$, $Y$, $Z$ and omega ($\\omega$), phi ($\\phi$) and kappa ($\\kappa$)) given 3 control points and lastly; the equations help in setting the foundation to iteratively refine a Bundle Adjustment (solving for many images simultaneously). \n",
    "\n",
    "We now move onto the exciting bit. We want to create 3D content.  \n",
    "<img style=\"float:right;\" src=\"./img/stereo.png\" width= 40% /> \n",
    "\n",
    "While we can do so through measuring in one image as in [02resection.ipynb](https://github.com/AdrianKriger/collinearity/blob/main/02resection.ipynb); we genenerally do not. We typically harvest 3D data through measuring the same feature in two or more **correctly oriented photographs** by intersecting thier image rays. Because we include the location and orientation of the cameras we use a **_least squares_** method.  \n",
    "\n",
    "Least Squares is the most effective technique to solve such challenges as it reduces the error between observed and estimated values. Least squares also **_handles uncertainty_**. It considers errors in the estimation process, weighting observations based on their reliability. Lastly; least squares can **_handle overdetermined systems_** _---where there are more observations than unknowns---_ by finding the best-fit solution that satisfies all observations as closely as possible. \n",
    "\n",
    "Consider **_every pixel_**, in an image, is solved with a set of (two) collinearity equations. But to recover the 3D object we have to measure two images. **_So everything twice_**. Four equations with three unknowns **_and_** the six exterior orientation parameters (treated as observables with uncertainty) from the bundle adjustment. "
   ]
  },
  {
   "cell_type": "markdown",
   "id": "411c75bc",
   "metadata": {},
   "source": [
    "<div class=\"alert alert-danger\">\n",
    "  <strong>REQUIRED!</strong> \n",
    "  \n",
    "You are required to insert your outputs and any comment into this document. The document you submit should therefore contain the existing text in addition to:\n",
    "\n",
    " - Plots and other outputs from executing the code chunks\n",
    " - Discussion of your plots and other outputs as well as conclusions reached.\n",
    " - This should also include any hypotheses and assumptions made as well as factors that may affect your conclusions.\n",
    "</div>"
   ]
  },
  {
   "cell_type": "code",
   "execution_count": 3,
   "id": "a9364877",
   "metadata": {},
   "outputs": [],
   "source": [
    "#- load the magic\n",
    "from sympy import sin, cos, Matrix, symbols, lambdify\n",
    "import numpy as np\n",
    "import pandas as pd"
   ]
  },
  {
   "cell_type": "markdown",
   "id": "aaa289d9",
   "metadata": {},
   "source": [
    "<div class=\"alert alert-block alert-success\"> <strong> For this exercise we will perform an intersection \n",
    "</strong> with a least squares adjustment. \n",
    "\n",
    "We will feed image coordinates of the same feature, from two or more images, along with the exterior orientation parameters of their cameras into a least squares adjustment and iterate until they convergence.  \n",
    "<br>\n",
    "A secondary focus is an opportunity to become familiar with the Python programming language and to experiment with changing functions, variables and parameters and to understand how these affect the result.\n",
    "</div>"
   ]
  },
  {
   "cell_type": "code",
   "execution_count": 4,
   "id": "aa404219",
   "metadata": {},
   "outputs": [],
   "source": [
    "input = \"./data/inputInter01.txt\""
   ]
  },
  {
   "cell_type": "code",
   "execution_count": 5,
   "id": "11a56f7a",
   "metadata": {},
   "outputs": [
    {
     "name": "stdout",
     "output_type": "stream",
     "text": [
      "focal length: 15.0\n"
     ]
    },
    {
     "data": {
      "text/html": [
       "<div>\n",
       "<style scoped>\n",
       "    .dataframe tbody tr th:only-of-type {\n",
       "        vertical-align: middle;\n",
       "    }\n",
       "\n",
       "    .dataframe tbody tr th {\n",
       "        vertical-align: top;\n",
       "    }\n",
       "\n",
       "    .dataframe thead th {\n",
       "        text-align: right;\n",
       "    }\n",
       "</style>\n",
       "<table border=\"1\" class=\"dataframe\">\n",
       "  <thead>\n",
       "    <tr style=\"text-align: right;\">\n",
       "      <th></th>\n",
       "      <th>name</th>\n",
       "      <th>xp</th>\n",
       "      <th>yp</th>\n",
       "      <th>XL</th>\n",
       "      <th>YL</th>\n",
       "      <th>ZL</th>\n",
       "      <th>O</th>\n",
       "      <th>P</th>\n",
       "      <th>K</th>\n",
       "      <th>SigXL</th>\n",
       "      <th>SigYL</th>\n",
       "      <th>SigZL</th>\n",
       "      <th>SigO</th>\n",
       "      <th>SigP</th>\n",
       "      <th>SigK</th>\n",
       "    </tr>\n",
       "  </thead>\n",
       "  <tbody>\n",
       "    <tr>\n",
       "      <th>0</th>\n",
       "      <td>Photo1</td>\n",
       "      <td>-3.8706</td>\n",
       "      <td>4.6560</td>\n",
       "      <td>2.000000</td>\n",
       "      <td>1.000000</td>\n",
       "      <td>2.000000</td>\n",
       "      <td>0.00000</td>\n",
       "      <td>0.000000</td>\n",
       "      <td>0.000000</td>\n",
       "      <td>0.000006</td>\n",
       "      <td>0.000009</td>\n",
       "      <td>0.000002</td>\n",
       "      <td>0.000232</td>\n",
       "      <td>0.000146</td>\n",
       "      <td>0.000042</td>\n",
       "    </tr>\n",
       "    <tr>\n",
       "      <th>1</th>\n",
       "      <td>Photo2</td>\n",
       "      <td>2.6926</td>\n",
       "      <td>-4.3098</td>\n",
       "      <td>1.481621</td>\n",
       "      <td>1.889606</td>\n",
       "      <td>2.183236</td>\n",
       "      <td>5.55765</td>\n",
       "      <td>13.912112</td>\n",
       "      <td>15.269225</td>\n",
       "      <td>0.000007</td>\n",
       "      <td>0.000014</td>\n",
       "      <td>0.000004</td>\n",
       "      <td>0.000353</td>\n",
       "      <td>0.000167</td>\n",
       "      <td>0.000057</td>\n",
       "    </tr>\n",
       "  </tbody>\n",
       "</table>\n",
       "</div>"
      ],
      "text/plain": [
       "     name      xp      yp        XL        YL        ZL        O          P  \\\n",
       "0  Photo1 -3.8706  4.6560  2.000000  1.000000  2.000000  0.00000   0.000000   \n",
       "1  Photo2  2.6926 -4.3098  1.481621  1.889606  2.183236  5.55765  13.912112   \n",
       "\n",
       "           K     SigXL     SigYL     SigZL      SigO      SigP      SigK  \n",
       "0   0.000000  0.000006  0.000009  0.000002  0.000232  0.000146  0.000042  \n",
       "1  15.269225  0.000007  0.000014  0.000004  0.000353  0.000167  0.000057  "
      ]
     },
     "execution_count": 5,
     "metadata": {},
     "output_type": "execute_result"
    }
   ],
   "source": [
    "#- look\n",
    "\n",
    "# For I.O.\n",
    "with open(input) as fin:\n",
    "    f = float(fin.readline())   # The focal length in mm\n",
    "# xp yp XL YL ZL O P K SigXL SigYL SigZL SigO SigP SigK\n",
    "data = pd.read_csv(\n",
    "    input,\n",
    "    delimiter=' ',\n",
    "    usecols=range(0, 15),\n",
    "    #names=[str(i) for i in range(14)],\n",
    "    skiprows=1, names=['name', 'xp', 'yp', 'XL', 'YL', 'ZL', 'O', 'P', 'K', 'SigXL', 'SigYL', 'SigZL', 'SigO', 'SigP', 'SigK'])\n",
    "\n",
    "print('focal length:', f)\n",
    "data"
   ]
  },
  {
   "cell_type": "markdown",
   "id": "83e91af2",
   "metadata": {},
   "source": [
    "<div class=\"alert alert-block alert-warning\"><b>QUESTION! </b>  </div>\n",
    "\n",
    "- **Why is an intersection important? What does a space intersection help us achieve?**"
   ]
  },
  {
   "cell_type": "markdown",
   "id": "a452f447",
   "metadata": {},
   "source": [
    "{ click in this cell and write your answer here }"
   ]
  },
  {
   "cell_type": "code",
   "execution_count": 7,
   "id": "53c0ca7e",
   "metadata": {},
   "outputs": [],
   "source": [
    "#- https://github.com/otakusaikou/SpaceIntersection and https://github.com/Abbsalehi/Photogrammetry-Space-Intersection\n",
    "\n",
    "np.set_printoptions(suppress=True)  # Disable scientific notation for numpy\n",
    "\n",
    "\n",
    "def getInit(xa, ya, EO, f):\n",
    "    \"\"\"Compute initial values of unknown parameters\"\"\"\n",
    "    xa1, xa2 = xa.ravel()\n",
    "    ya1, ya2 = ya.ravel()\n",
    "\n",
    "    X1, Y1, Z1 = EO[0, :]\n",
    "    X2, Y2, Z2 = EO[1, :]\n",
    "\n",
    "    B = np.sqrt((X2 - X1)**2 + (Y2 - Y1)**2)    # The baseline\n",
    "    pa = ya1 - ya2                              # The parallax\n",
    "\n",
    "    H = (Z1 + Z2) / 2\n",
    "\n",
    "    # Compute arbitrary horizontal coordinates with formula 8-5~8-7\n",
    "    XA = B * (xa1 / pa)\n",
    "    YA = B * (ya1 / pa)\n",
    "    ZA = H - (B * f) / pa\n",
    "\n",
    "    # Compute the transformation parameters between\n",
    "    # arbitrary and true object coordinate system\n",
    "    a = np.cos(np.arctan2((X2 - X1), (Y2 - Y1)))\n",
    "    b = np.sin(np.arctan2((X2 - X1), (Y2 - Y1)))\n",
    "    Tx = X1\n",
    "    Ty = Y1\n",
    "\n",
    "    # Transform the horizontal coordinates of arbitrary object point\n",
    "    # and use the result as initial values\n",
    "    XA2 = a * XA - b * YA + Tx\n",
    "    YA2 = a * YA + b * XA + Ty\n",
    "\n",
    "    return XA2, YA2, ZA\n",
    "\n",
    "\n",
    "def getM(Omega, Phi, Kappa):\n",
    "    \"\"\"Compute rotation matrix M\"\"\"\n",
    "    M = np.matrix([\n",
    "        [\n",
    "            cos(Phi)*cos(Kappa),\n",
    "            sin(Omega)*sin(Phi)*cos(Kappa) + cos(Omega)*sin(Kappa),\n",
    "            -cos(Omega)*sin(Phi)*cos(Kappa) + sin(Omega)*sin(Kappa)],\n",
    "        [\n",
    "            -cos(Phi)*sin(Kappa),\n",
    "            -sin(Omega)*sin(Phi)*sin(Kappa) + cos(Omega)*cos(Kappa),\n",
    "            cos(Omega)*sin(Phi)*sin(Kappa) + sin(Omega)*cos(Kappa)],\n",
    "        [\n",
    "            sin(Phi),\n",
    "            -sin(Omega)*cos(Phi),\n",
    "            cos(Omega)*cos(Phi)]\n",
    "        ])\n",
    "\n",
    "    return M\n",
    "\n",
    "\n",
    "def getEqn(IO, EO, PT, pt):\n",
    "    \"\"\"List observation equations\"\"\"\n",
    "    f, xo, yo = IO\n",
    "    XL, YL, ZL, Omega, Phi, Kappa = EO\n",
    "    XA, YA, ZA = PT\n",
    "    xa, ya = pt\n",
    "\n",
    "    M = getM(Omega, Phi, Kappa)\n",
    "\n",
    "    r = M[0, 0] * (XA - XL) + M[0, 1] * (YA - YL) + M[0, 2] * (ZA - ZL)\n",
    "    s = M[1, 0] * (XA - XL) + M[1, 1] * (YA - YL) + M[1, 2] * (ZA - ZL)\n",
    "    q = M[2, 0] * (XA - XL) + M[2, 1] * (YA - YL) + M[2, 2] * (ZA - ZL)\n",
    "\n",
    "    F = Matrix([xa - xo + f * (r / q), ya - yo + f * (s / q)])\n",
    "    return F\n",
    "\n",
    "\n",
    "def spaceIntersection(inputFile, s):\n",
    "    \"\"\"Perform a space intersection\"\"\"\n",
    "    # For I.O.\n",
    "    with open(inputFile) as fin:\n",
    "        f = float(fin.readline())   # The focal length in mm\n",
    "\n",
    "    # For E.O.\n",
    "    # xp yp XL YL ZL O P K SigXL SigYL SigZL SigO SigP SigK\n",
    "    data = pd.read_csv(\n",
    "        inputFile,\n",
    "        delimiter=' ',\n",
    "        usecols=range(1, 15),\n",
    "        names=[str(i) for i in range(14)],\n",
    "        skiprows=1)\n",
    "\n",
    "    EO, SigEO = np.hsplit(data.values[:, 2:], 2)\n",
    "\n",
    "    # Convert from degrees to radians\n",
    "    EO[:, 3:] = np.radians(EO[:, 3:])\n",
    "    SigEO[:, 3:] = np.radians(SigEO[:, 3:])\n",
    "\n",
    "    # For image points\n",
    "    xa, ya = np.hsplit(data.values[:, :2], 2)\n",
    "\n",
    "    # Compute initial values\n",
    "    X0 = np.matrix(getInit(xa[:2], ya[:2], EO[:2, :3], f)).T\n",
    "\n",
    "    #print(\"Initial Values:\\n Param\\tValue\")\n",
    "    #print(\"   XA\\t%.6f\" % X0[0, 0])\n",
    "    #print(\"   YA\\t%.6f\" % X0[1, 0])\n",
    "    #print(\"   ZA\\t%.6f\" % X0[2, 0])\n",
    "    # print\n",
    "\n",
    "    # Define variable for inerior orientation parameters\n",
    "    IO = f, 0, 0\n",
    "\n",
    "    # Define symbols\n",
    "    EOs = symbols(\"XL YL ZL Omega Phi Kappa\")   # E.O. parameters\n",
    "    PTs = symbols(\"XA YA ZA\")                   # Object point coordinates\n",
    "    pts = symbols(\"xa ya\")                      # Image coordinates\n",
    "\n",
    "    # Define weight matrix\n",
    "    err = SigEO.ravel()     # Error vector\n",
    "    W = np.matrix(np.diag(s**2 / err**2))\n",
    "    Q = W.I\n",
    "\n",
    "    # List and linearize observation equations\n",
    "    F = getEqn(IO, EOs, PTs, pts)\n",
    "    JFx = F.jacobian(PTs)\n",
    "    JFl = F.jacobian(EOs)       # Jacobian matrix for observables\n",
    "\n",
    "    # Create lambda function objects\n",
    "    FuncJFx = lambdify((EOs+PTs), JFx, 'numpy')\n",
    "    FuncJFl = lambdify((EOs+PTs), JFl, 'numpy')\n",
    "    FuncF = lambdify((EOs+PTs+pts), F, 'numpy')\n",
    "\n",
    "    numPt = len(data)\n",
    "\n",
    "    # Create observable array as argument of function objects\n",
    "    l = np.zeros((numPt, 11))\n",
    "    l[:, :6] = EO\n",
    "    l[:, 6:9] = X0[:, :].T\n",
    "    l[:, 9] += xa.ravel()\n",
    "    l[:, 10] += ya.ravel()\n",
    "\n",
    "    dX = np.ones(1)                              # Initial value for iteration\n",
    "\n",
    "    # Iteration process\n",
    "    lc = 0          # Loop count\n",
    "    dRes = 1.       # Termination criteria\n",
    "    res = 1.        # Initial value of residual\n",
    "    while dRes > 10**-12 and lc < 20:\n",
    "        # Compute coefficient matrix and constants matrix\n",
    "        A = np.zeros((2 * numPt, len(err)))\n",
    "        B = np.zeros((2 * numPt, 3))\n",
    "\n",
    "        Ai = FuncJFl(*np.hsplit(l, 11)[:-2])\n",
    "        Bi = FuncJFx(*np.hsplit(l, 11)[:-2])\n",
    "        F0 = np.matrix(-FuncF(*np.hsplit(l, 11)).T.reshape(-1, 1))\n",
    "\n",
    "        for i in range(numPt):\n",
    "            A[2*i:2*(i+1), 6*i:6*(i+1)] = Ai[:, :, i].reshape(2, 6)\n",
    "            B[2*i:2*(i+1), :] = Bi[:, :, i].reshape(2, 3)\n",
    "\n",
    "        A = np.matrix(A)\n",
    "        B = np.matrix(B)\n",
    "\n",
    "        # Solve the unknown parameters\n",
    "        AT = A.T.copy()\n",
    "        Qe = (A * Q * AT)\n",
    "        We = Qe.I\n",
    "        N = (B.T * We * B)                  # Compute normal matrix\n",
    "        t = (B.T * We * F0)                 # Compute t matrix\n",
    "        dX = N.I * t                        # Compute unknown parameters\n",
    "        V = Q * AT * We * (F0 - B * dX)     # Compute residual vector\n",
    "\n",
    "        X0 += dX            # Update initial values\n",
    "        l[:, 6:9] += dX[:, :].T\n",
    "\n",
    "        # Update termination criteria\n",
    "        if lc > 1:\n",
    "            dRes = abs(((V.T * W * V)[0, 0]/res) - 1)\n",
    "        res = (V.T * W * V)[0, 0]\n",
    "\n",
    "        # Compute sigma0\n",
    "        s0 = (res / (B.shape[0] - B.shape[1]))**0.5\n",
    "\n",
    "        lc += 1\n",
    "\n",
    "    # Compute other informations\n",
    "    SigmaXX = s0**2 * N.I\n",
    "    paramStd = np.sqrt(np.diag(SigmaXX))\n",
    "    XA, YA, ZA = np.array(X0).flatten()\n",
    "    \n",
    "    # Print outputs/Ground Coordinate \n",
    "    print (\"Object point coordinates:\")\n",
    "    #print(XA)\n",
    "    #print(YA)\n",
    "    #print(ZA)\n",
    "    \n",
    "    return XA, YA, ZA\n",
    "\n",
    "s = 0.005"
   ]
  },
  {
   "cell_type": "code",
   "execution_count": 8,
   "id": "e3174ecf",
   "metadata": {},
   "outputs": [
    {
     "name": "stdout",
     "output_type": "stream",
     "text": [
      "Object point coordinates:\n"
     ]
    },
    {
     "data": {
      "text/plain": [
       "(1.4839212533482895, 1.6207994442351308, 3.453874492588568e-06)"
      ]
     },
     "execution_count": 8,
     "metadata": {},
     "output_type": "execute_result"
    }
   ],
   "source": [
    "#- execute\n",
    "spaceIntersection(input, s)"
   ]
  },
  {
   "cell_type": "markdown",
   "id": "30167c3b",
   "metadata": {},
   "source": [
    "<div class=\"alert alert-block alert-warning\"><b>QUESTION! </b>  </div>\n",
    "\n",
    "- **What are the `Initial Values` that initiate the least squares solution? Where do these values come from? How do the `Initial Values` compare with the result of the least squares solution (the `Object point coordinates`)?**"
   ]
  },
  {
   "cell_type": "markdown",
   "id": "cece24bb",
   "metadata": {},
   "source": [
    "{ click in this cell and write your answer here }"
   ]
  },
  {
   "cell_type": "markdown",
   "id": "4b1d0572",
   "metadata": {},
   "source": [
    "- **Describe how the least squares method iteratively minimizes the residuals to achieve a solution?**"
   ]
  },
  {
   "cell_type": "markdown",
   "id": "5e85ff3d",
   "metadata": {},
   "source": [
    "<div class=\"alert alert-block alert-info\"><b>HINT!</b> Use `print` and look at how the residuals minimize </div> "
   ]
  },
  {
   "cell_type": "markdown",
   "id": "de1fa5e3",
   "metadata": {},
   "source": [
    "{ click in this cell and write your answer here }"
   ]
  },
  {
   "cell_type": "markdown",
   "id": "2e56a8ff",
   "metadata": {},
   "source": [
    "<br>\n",
    "<img style=\"float:left;\" src=\"./img/Triangulation_n_geometry.png\" width= 40% /> \n",
    "<br><br>\n",
    "\n",
    "The previous example only considered the same feature in two images; as is the case with **_traditonal stereo photogrammetry_**. We now consider **_multi-view stereo_**. Intersecting the same feature in more than two images."
   ]
  },
  {
   "cell_type": "markdown",
   "id": "4b55fe89",
   "metadata": {},
   "source": [
    "<div class=\"alert alert-block alert-warning\"><b>TASK / QUESTION! </b>  </div>\n",
    "\n",
    "- **Change the `input` to `./data/inputInter03.txt` and then `./data/inputInter04.txt`. Discuss what you observe. You answer must be between 250 and 300 words and include _the challenges associated with multi-view stereo_.**"
   ]
  },
  {
   "cell_type": "markdown",
   "id": "e9943eb3",
   "metadata": {},
   "source": [
    "<div class=\"alert alert-block alert-info\"><b>HINT!</b> Use `print` and look </div> "
   ]
  },
  {
   "cell_type": "markdown",
   "id": "186bb44b",
   "metadata": {},
   "source": [
    "{ click in this cell and write your answer here }"
   ]
  },
  {
   "cell_type": "code",
   "execution_count": null,
   "id": "018a6c0a",
   "metadata": {},
   "outputs": [],
   "source": []
  },
  {
   "cell_type": "markdown",
   "id": "e5dc766d",
   "metadata": {},
   "source": [
    "_images:_\n",
    "    \n",
    "- **Principles of photogrammetry**: EZ.pdh (2023), Aerial Photogrammetry Help, https://ez-pdh.com/aerial-photogrammetry-help/\n",
    "- **Triangulation**: Moulon, P., Monasse, P., & Marlet, R. (2013). La bibliothèque openMVG : open source Multiple View Geometry,\n",
    "https://www.semanticscholar.org/paper/La-biblioth%C3%A8que-openMVG-%3A-open-source-Multiple-View-Moulon-Monasse/75560048ef906a91a99d73dce79d2651a76f9666"
   ]
  },
  {
   "cell_type": "code",
   "execution_count": null,
   "id": "d3441932",
   "metadata": {},
   "outputs": [],
   "source": []
  }
 ],
 "metadata": {
  "kernelspec": {
   "display_name": "Python 3 (ipykernel)",
   "language": "python",
   "name": "python3"
  },
  "language_info": {
   "codemirror_mode": {
    "name": "ipython",
    "version": 3
   },
   "file_extension": ".py",
   "mimetype": "text/x-python",
   "name": "python",
   "nbconvert_exporter": "python",
   "pygments_lexer": "ipython3",
   "version": "3.9.0"
  }
 },
 "nbformat": 4,
 "nbformat_minor": 5
}
